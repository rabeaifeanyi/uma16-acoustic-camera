{
 "cells": [
  {
   "cell_type": "code",
   "execution_count": 33,
   "metadata": {},
   "outputs": [],
   "source": [
    "\n",
    "import acoular as ac #type: ignore\n",
    "import numpy as np #type: ignore\n",
    "import matplotlib.pyplot as plt #type: ignore\n",
    "from scipy.signal import welch #type: ignore\n",
    "from config import uma16_index, ConfigUMA\n",
    "import h5py"
   ]
  },
  {
   "cell_type": "code",
   "execution_count": 34,
   "metadata": {},
   "outputs": [
    {
     "name": "stdout",
     "output_type": "stream",
     "text": [
      "\n",
      "UMA-16 device: nanoSHARC micArray16 UAC2.0: USB Audio (hw:3,0) at index 5\n",
      "\n"
     ]
    }
   ],
   "source": [
    "device_index = uma16_index()\n",
    "t = 1 # seconds\n",
    "\n",
    "source = ac.SoundDeviceSamplesGenerator(device=device_index, numchannels=16) # object, responsible for recording the time data \n",
    "source.numsamples = int(t * source.sample_freq)\n",
    "\n",
    "uma_config = ConfigUMA()\n",
    "# microphone geometry\n",
    "mics = uma_config.create_mics()\n",
    "\n",
    "# calculate the CSM from the incoming data\n",
    "freq_data = ac.PowerSpectra(\n",
    "    time_data=source, \n",
    "    block_size=128, \n",
    "    window='Hanning'\n",
    "    )\n"
   ]
  },
  {
   "cell_type": "code",
   "execution_count": 35,
   "metadata": {},
   "outputs": [
    {
     "name": "stdout",
     "output_type": "stream",
     "text": [
      "Loaded signal shape: (44100, 16)\n",
      "Sample freq: 44100.0\n",
      "Number of channels: 16\n"
     ]
    }
   ],
   "source": [
    "folder = \"uma16_example_recordings/\"\n",
    "hdf5_filename = folder + \"450_and_700_1s_h5py.h5\"\n",
    "\n",
    "with h5py.File(hdf5_filename, 'r') as hdf5_file:\n",
    "    signal = hdf5_file['data'][:]\n",
    "    sample_freq = hdf5_file.attrs['sample_freq']\n",
    "    channels = hdf5_file.attrs['channels']\n",
    "\n",
    "print(\"Loaded signal shape:\", signal.shape)\n",
    "print(\"Sample freq:\", sample_freq)\n",
    "print(\"Number of channels:\", channels)\n",
    "\n",
    "fs = sample_freq #Abtastrate\n",
    "t = np.arange(signal.shape[0]) / fs\n",
    "df = 1/fs #Zeitabstand zwischen den Samples"
   ]
  },
  {
   "cell_type": "code",
   "execution_count": 36,
   "metadata": {},
   "outputs": [
    {
     "name": "stdout",
     "output_type": "stream",
     "text": [
      "CSM shape: (65, 16, 16)\n"
     ]
    },
    {
     "name": "stderr",
     "output_type": "stream",
     "text": [
      "/tmp/ipykernel_146360/3381670332.py:40: ComplexWarning: Casting complex values to real discards the imaginary part\n",
      "  ft = np.fft.rfft(data * wind, axis=0).astype(self.precision)\n"
     ]
    }
   ],
   "source": [
    "# aus Acoular kopiert\n",
    "\n",
    "class CSM():\n",
    "    def __init__(self, signal, sample_freq, block_size, calib=None, num_blocks=1, precision=np.float32):\n",
    "        self.signal = signal\n",
    "        self.sample_freq = sample_freq\n",
    "        self.block_size = block_size\n",
    "        self.window_ = np.hanning\n",
    "        self.calib = calib\n",
    "        self.num_blocks = num_blocks\n",
    "        self.precision = precision\n",
    "\n",
    "    def get_source_data(self):\n",
    "        num_samples = self.signal.shape[0]\n",
    "        num_channels = self.signal.shape[1]\n",
    "\n",
    "        for start in range(0, num_samples, self.block_size):\n",
    "            end = start + self.block_size\n",
    "            if end > num_samples:\n",
    "                break \n",
    "            yield self.signal[start:end, :]\n",
    "\n",
    "    def calc_csm(self):\n",
    "        \"\"\"Berechnung der Cross-Spectral Matrix (CSM).\"\"\"\n",
    "        t = self.signal\n",
    "        wind = self.window_(self.block_size)\n",
    "        weight = np.dot(wind, wind)\n",
    "        wind = wind[np.newaxis, :].swapaxes(0, 1)\n",
    "        numfreq = int(self.block_size / 2 + 1)\n",
    "        csm_shape = (numfreq, t.shape[1], t.shape[1])\n",
    "        csm_upper = np.zeros(csm_shape, dtype=self.precision)\n",
    "\n",
    "        if self.calib and self.calib.num_mics > 0:\n",
    "            if self.calib.num_mics == t.shape[1]:\n",
    "                wind = wind * self.calib.data[np.newaxis, :]\n",
    "            else:\n",
    "                raise ValueError('Calibration data not compatible: %i, %i' % (self.calib.num_mics, t.shape[1]))\n",
    "\n",
    "        for data in self.get_source_data():\n",
    "            ft = np.fft.rfft(data * wind, axis=0).astype(self.precision)\n",
    "            for freq_idx in range(numfreq):\n",
    "                csm_upper[freq_idx] += np.outer(ft[freq_idx], np.conj(ft[freq_idx]))\n",
    "        \n",
    "        csm_lower = csm_upper.conj().transpose(0, 2, 1)\n",
    "        [np.fill_diagonal(csm_lower[cntFreq, :, :], 0) for cntFreq in range(csm_lower.shape[0])]\n",
    "        csm = csm_lower + csm_upper\n",
    "        \n",
    "        return csm * (2.0 / self.block_size / weight / self.num_blocks)\n",
    "\n",
    "\n",
    "csm_calculator = CSM(signal=signal, sample_freq=sample_freq, block_size=128)\n",
    "csm_result = csm_calculator.calc_csm()\n",
    "\n",
    "print(\"CSM shape:\", csm_result.shape)\n"
   ]
  },
  {
   "cell_type": "code",
   "execution_count": 37,
   "metadata": {},
   "outputs": [],
   "source": [
    "# für eine Frequenz\n",
    "FREQ = 5000 #Hz\n",
    "\n"
   ]
  },
  {
   "cell_type": "code",
   "execution_count": 39,
   "metadata": {},
   "outputs": [
    {
     "name": "stdout",
     "output_type": "stream",
     "text": [
      "Shape of selected CSM: (16, 16)\n"
     ]
    }
   ],
   "source": [
    "#Sehr unsicher, ob das richtig ist\n",
    "\n",
    "def calculate_octave_band_csm(csm_result, freqs, center_freqs):\n",
    "    band_csm = []\n",
    "    factor = 2**(1/6) \n",
    "    \n",
    "    for center_freq in center_freqs:\n",
    "        lower_freq = center_freq / factor\n",
    "        upper_freq = center_freq * factor\n",
    "        \n",
    "        freq_indices = np.where((freqs >= lower_freq) & (freqs <= upper_freq))[0]\n",
    "        \n",
    "\n",
    "        band_csm_mean = np.mean(csm_result[freq_indices], axis=0)\n",
    "        band_csm.append(band_csm_mean)\n",
    "\n",
    "    return band_csm\n",
    "\n",
    "numfreq = csm_result.shape[0]\n",
    "freqs = np.fft.rfftfreq(csm_calculator.block_size, d=1/sample_freq)\n",
    "\n",
    "center_frequencies = [250, 315, 400, 500, 630, 800, 1000, 1250, 1600, 2000, 2500, 3150, 4000, 5000, 6300, 8000]\n",
    "\n",
    "band_csms = calculate_octave_band_csm(csm_result, freqs, center_frequencies)\n",
    "\n",
    "selected_csm = band_csms[0] \n",
    "\n",
    "print(\"Shape of selected CSM:\", selected_csm.shape)"
   ]
  },
  {
   "cell_type": "code",
   "execution_count": 8,
   "metadata": {},
   "outputs": [
    {
     "data": {
      "text/plain": [
       "(513, 16, 16)"
      ]
     },
     "execution_count": 8,
     "metadata": {},
     "output_type": "execute_result"
    }
   ],
   "source": [
    "# So würde ChatGPT das berechnen (nicht getestet)\n",
    "\n",
    "def calculate_csm_welch(signal, fs, nperseg=None, noverlap=None):\n",
    "    freqs, Pxx = welch(signal, fs=fs, nperseg=nperseg, noverlap=noverlap, axis=0)\n",
    "    csm = np.einsum('ij,ik->ijk', Pxx, np.conjugate(Pxx))\n",
    "    return csm, freqs\n",
    "\n",
    "fs = 44100  # Beispielhafte Abtastrate\n",
    "nperseg = 1024  # Anzahl der Samples pro Segment\n",
    "noverlap = 512  # Anzahl der überlappenden Samples\n",
    "\n",
    "csm, freqs = calculate_csm_welch(signal, fs, nperseg, noverlap)\n",
    "csm.shape"
   ]
  },
  {
   "cell_type": "code",
   "execution_count": 9,
   "metadata": {},
   "outputs": [
    {
     "data": {
      "text/plain": [
       "(16, 16)"
      ]
     },
     "execution_count": 9,
     "metadata": {},
     "output_type": "execute_result"
    }
   ],
   "source": [
    "def calculate_csm(signal):\n",
    "    num_of_samples, num_of_channels = signal.shape\n",
    "    fft_signal = np.fft.fft(signal, axis=0)\n",
    "    csm = np.einsum('ij,ik->jk', fft_signal, np.conjugate(fft_signal)) / num_of_samples\n",
    "    \n",
    "    return csm\n",
    "\n",
    "csm = calculate_csm(signal)\n",
    "csm.shape"
   ]
  },
  {
   "cell_type": "code",
   "execution_count": null,
   "metadata": {},
   "outputs": [],
   "source": []
  }
 ],
 "metadata": {
  "kernelspec": {
   "display_name": "Python 3",
   "language": "python",
   "name": "python3"
  },
  "language_info": {
   "codemirror_mode": {
    "name": "ipython",
    "version": 3
   },
   "file_extension": ".py",
   "mimetype": "text/x-python",
   "name": "python",
   "nbconvert_exporter": "python",
   "pygments_lexer": "ipython3",
   "version": "3.11.6"
  }
 },
 "nbformat": 4,
 "nbformat_minor": 2
}
